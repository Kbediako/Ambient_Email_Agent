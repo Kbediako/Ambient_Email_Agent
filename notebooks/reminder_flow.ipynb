{
 "cells": [
  {
   "cell_type": "markdown",
   "id": "4f18f21f",
   "metadata": {},
   "source": [
    "# Reminder Flow Hardening\n",
    "The Gmail HITL agent now routes reminder actions through a durable dispatcher. Cancel and create operations are batched together so the SQLite store never observes a cancelled reminder without the corresponding recreation. The triage router only stages create actions immediately when it can continue straight to the response agent; notify flows defer creation until the human reviewer approves the reminder, keeping HITL semantics intact."
   ]
  },
  {
   "cell_type": "markdown",
   "id": "75f81733",
   "metadata": {},
   "source": [
    "## Updated Reminder Graph\n",
    "The mermaid diagram below highlights the dispatcher (`apply_reminder_actions_node`) and the deferred reminder queue used during HITL approvals.\n",
    "\n",
    "```mermaid\n",
    "flowchart TD\n",
    "    TRIAGE[triage_router] -->|cancel actions| DISPATCH[apply_reminder_actions_node]\n",
    "    TRIAGE -->|respond (create reminder)| DISPATCH\n",
    "    TRIAGE -->|notify (pending reminder)| HITL[triage_interrupt_handler]\n",
    "    DISPATCH --> RESPONSE[response_agent]\n",
    "    DISPATCH --> HITL\n",
    "    HITL -->|user respond| DISPATCH\n",
    "    HITL -->|ignore/accept| END[(End)]\n",
    "    RESPONSE --> END\n",
    "```"
   ]
  },
  {
   "cell_type": "code",
   "execution_count": null,
   "id": "9f57ad5b",
   "metadata": {},
   "outputs": [],
   "source": [
    "from datetime import datetime, timedelta, timezone\n",
    "from pprint import pprint\n",
    "\n",
    "from email_assistant.graph.reminder_nodes import register_reminder_actions\n",
    "from email_assistant.tools.reminders import SqliteReminderStore\n",
    "\n",
    "store = SqliteReminderStore(db_path=\":memory:\")\n",
    "store.setup()\n",
    "\n",
    "batch = register_reminder_actions(\n",
    "    thread_id=\"thread-demo\",\n",
    "    actions=[\n",
    "        {\"action\": \"cancel\", \"thread_id\": \"thread-demo\"},\n",
    "        {\n",
    "            \"action\": \"create\",\n",
    "            \"thread_id\": \"thread-demo\",\n",
    "            \"subject\": \"Follow up invoice\",\n",
    "            \"due_at\": (datetime.now(timezone.utc) + timedelta(hours=24)).isoformat(),\n",
    "            \"reason\": \"demo batch\",\n",
    "        },\n",
    "    ],\n",
    "    next_node=\"response_agent\",\n",
    ")\n",
    "\n",
    "print(\"Staged actions:\")\n",
    "pprint(batch)\n",
    "\n",
    "result = store.apply_actions(batch[\"reminder_actions\"])\n",
    "print(\"\\nDispatcher result:\")\n",
    "pprint(result)\n",
    "\n",
    "print(\"\\nActive reminders:\")\n",
    "for reminder in store.iter_active_reminders():\n",
    "    pprint(\n",
    "        {\n",
    "            \"id\": reminder.id,\n",
    "            \"thread_id\": reminder.thread_id,\n",
    "            \"subject\": reminder.subject,\n",
    "            \"due_at\": reminder.due_at.isoformat(),\n",
    "        }\n",
    "    )\n"
   ]
  }
 ],
 "metadata": {},
 "nbformat": 4,
 "nbformat_minor": 5
}
