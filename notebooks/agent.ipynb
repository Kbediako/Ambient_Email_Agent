{
 "cells": [
  {
   "cell_type": "markdown",
   "id": "36a3cf00",
   "metadata": {},
   "source": [
    "# The Email Assistant Agent\n",
    "\n",
    "> Note: This notebook demonstrates the final agent. See `langgraph_101.ipynb` for a simpler introduction to LangGraph concepts.\n",
    "\n",
    "This notebook shows how to run our email assistant, which combines multiple features we've built: a triage router, a response agent with tools, human-in-the-loop (HITL) capabilities, and a persistent reminder system.\n",
    "\n",
    "![overview-img](img/overview.png)"
   ]
  },
  {
   "cell_type": "markdown",
   "id": "b4ab53ac",
   "metadata": {},
   "source": [
    "### 1. Load Environment Variables"
   ]
  },
  {
   "cell_type": "code",
   "execution_count": null,
   "id": "713838c1",
   "metadata": {},
   "outputs": [],
   "source": [
    "import os\n",
    "from dotenv import load_dotenv\n",
    "\n",
    "# Load from .env file in the parent directory\n",
    "load_dotenv(\"../.env\")\n",
    "\n",
    "# Set to 1 to auto-accept any human-in-the-loop prompts\n",
    "os.environ[\"HITL_AUTO_ACCEPT\"] = \"1\""
   ]
  },
  {
   "cell_type": "markdown",
   "id": "3e7b1432",
   "metadata": {},
   "source": [
    "### 2. Import and Run the Agent\n",
    "\n",
    "All of our agent logic has been modularized into the `src/email_assistant` directory. We can now import the final, compiled agent directly."
   ]
  },
  {
   "cell_type": "code",
   "execution_count": null,
   "id": "072a8c76",
   "metadata": {},
   "outputs": [],
   "source": [
    "import sys\n",
    "import uuid\n",
    "# Add src to path to allow for imports\n",
    "sys.path.append(os.path.abspath(os.path.join(os.getcwd(), '..', 'src')))\n",
    "\n",
    "from email_assistant.email_assistant_hitl_memory_gmail import email_assistant"
   ]
  },
  {
   "cell_type": "code",
   "execution_count": null,
   "id": "adca10a7",
   "metadata": {},
   "outputs": [],
   "source": [
    "# Here is an example of an email requiring a response\n",
    "email_input = {\n",
    "  \"id\": \"thread_abc_123\",\n",
    "  \"from\": \"Alice <alice@example.com>\",\n",
    "  \"to\": \"me@example.com\",\n",
    "  \"subject\": \"Quick question about API documentation\",\n",
    "  \"body\": \"Hi,\\nI was reviewing the API documentation and had a question about the auth endpoint.\\nThanks!\\nAlice\"\n",
    "}\n",
    "\n",
    "# The config is necessary to provide a unique thread_id for the checkpointer\n",
    "config = {\"configurable\": {\"thread_id\": str(uuid.uuid4())}}\n",
    "\n",
    "# Run the agent\n",
    "response = email_assistant.invoke({\"email_input\": email_input}, config)\n",
    "\n",
    "print(response.get('messages', [])[-1].content)"
   ]
  },
  {
   "cell_type": "markdown",
   "id": "6862fa3f",
   "metadata": {},
   "source": [
    "### 3. Advanced Feature: Reminders & Follow-ups\n",
    "\n",
    "We have added a persistent reminder system to the agent. Here is a demonstration of the end-to-end workflow."
   ]
  },
  {
   "cell_type": "markdown",
   "id": "f478acff",
   "metadata": {},
   "source": [
    "#### Step A: Clean the Database\n",
    "\n",
    "First, let's ensure the reminder database is empty so we start from a clean state."
   ]
  },
  {
   "cell_type": "code",
   "execution_count": null,
   "id": "4feca9f7",
   "metadata": {},
   "outputs": [],
   "source": [
    "db_path = os.getenv(\"REMINDER_DB_PATH\", \"../.local/reminders.db\")\n",
    "if os.path.exists(db_path):\n",
    "    os.remove(db_path)\n",
    "    print(f\"Removed existing database at {db_path}\")"
   ]
  },
  {
   "cell_type": "markdown",
   "id": "68851803",
   "metadata": {},
   "source": [
    "#### Step B: Create a Reminder\n",
    "\n",
    "We'll process an important email. The agent should classify it as `respond` or `notify` and create a reminder in the database."
   ]
  },
  {
   "cell_type": "code",
   "execution_count": null,
   "id": "3bb2aa11",
   "metadata": {},
   "outputs": [],
   "source": [
    "import json\n",
    "\n",
    "with open('../tests/evaluation_data/reminders/01_create_reminder.txt', 'r') as f:\n",
    "    create_email_data = json.load(f)\n",
    "\n",
    "config = {\"configurable\": {\"thread_id\": str(uuid.uuid4())}}\n",
    "email_assistant.invoke({\"email_input\": create_email_data}, config)"
   ]
  },
  {
   "cell_type": "markdown",
   "id": "8ab8d6aa",
   "metadata": {},
   "source": [
    "#### Step C: Verify Reminder Creation\n",
    "\n",
    "We can now use the `reminder_worker.py` script's `--list` command to see the reminder that was just created. We use the `!` prefix to run shell commands from the notebook."
   ]
  },
  {
   "cell_type": "code",
   "execution_count": null,
   "id": "daea241b",
   "metadata": {},
   "outputs": [],
   "source": [
    "!python ../scripts/reminder_worker.py --list"
   ]
  },
  {
   "cell_type": "markdown",
   "id": "b4833c4e",
   "metadata": {},
   "source": [
    "#### Step D: Cancel the Reminder\n",
    "\n",
    "Next, we process a reply from the user in the same thread. The agent should detect this reply and automatically cancel the pending reminder."
   ]
  },
  {
   "cell_type": "code",
   "execution_count": null,
   "id": "6058bc85",
   "metadata": {},
   "outputs": [],
   "source": [
    "with open('../tests/evaluation_data/reminders/02_cancel_reminder.txt', 'r') as f:\n",
    "    cancel_email_data = json.load(f)\n",
    "\n",
    "config = {\"configurable\": {\"thread_id\": str(uuid.uuid4())}}\n",
    "email_assistant.invoke({\"email_input\": cancel_email_data}, config)"
   ]
  },
  {
   "cell_type": "markdown",
   "id": "b7a4d026",
   "metadata": {},
   "source": [
    "#### Step E: Verify Reminder Cancellation\n",
    "\n",
    "Finally, we list the reminders again. The list should now be empty."
   ]
  },
  {
   "cell_type": "code",
   "execution_count": null,
   "id": "6ca57d48",
   "metadata": {},
   "outputs": [],
   "source": [
    "!python ../scripts/reminder_worker.py --list"
   ]
  }
 ],
 "metadata": {
  "kernelspec": {
   "display_name": "Python 3 (ipykernel)",
   "language": "python",
   "name": "python3"
  },
  "language_info": {
   "codemirror_mode": {
    "name": "ipython",
    "version": 3
   },
   "file_extension": ".py",
   "mimetype": "text/x-python",
   "name": "python",
   "nbconvert_exporter": "python",
   "pygments_lexer": "ipython3",
   "version": "3.12.3"
  }
 },
 "nbformat": 4,
 "nbformat_minor": 5
}
